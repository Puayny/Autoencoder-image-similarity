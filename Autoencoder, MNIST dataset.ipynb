{
 "cells": [
  {
   "cell_type": "markdown",
   "metadata": {},
   "source": [
    "<h3>Part 1 -- Autoencoder </h3>\n",
    "<h5>Each MNIST image is 28 X 28 X 1. This will be compressed to 4 X 4 X 4 using an autoencoder (784 variables to 64 variables).</h5>"
   ]
  },
  {
   "cell_type": "code",
   "execution_count": 1,
   "metadata": {},
   "outputs": [
    {
     "name": "stderr",
     "output_type": "stream",
     "text": [
      "Using TensorFlow backend.\n"
     ]
    }
   ],
   "source": [
    "from keras.datasets import mnist\n",
    "from keras.layers import Conv2D, MaxPooling2D, UpSampling2D\n",
    "from keras.models import Model, Sequential, load_model\n",
    "\n",
    "import copy\n",
    "import matplotlib.pyplot as plt\n",
    "import numpy as np\n",
    "import autoencoder_utils as ae_utils\n",
    "\n",
    "(X_train, _), (X_test, _) = mnist.load_data()\n",
    "\n",
    "X_train = np.reshape(X_train, (len(X_train), 28, 28, 1)) / 255.\n",
    "X_test = np.reshape(X_test, (len(X_test), 28, 28, 1)) / 255.\n"
   ]
  },
  {
   "cell_type": "code",
   "execution_count": 29,
   "metadata": {
    "collapsed": true
   },
   "outputs": [],
   "source": [
    "autoencoder = Sequential()\n",
    "\n",
    "input_shape = (28, 28, 1)\n",
    "autoencoder.add(Conv2D(32, (3, 3), activation='relu', padding='same', kernel_initializer='he_normal', input_shape=input_shape))\n",
    "autoencoder.add(Conv2D(16, (3, 3), activation='relu', padding='same', kernel_initializer='he_normal'))\n",
    "autoencoder.add(MaxPooling2D((2, 2)))\n",
    "autoencoder.add(Conv2D(8, (3, 3), activation='relu', padding='same', kernel_initializer='he_normal'))\n",
    "autoencoder.add(MaxPooling2D((2, 2)))\n",
    "autoencoder.add(Conv2D(4, (3, 3), activation='relu', padding='same', kernel_initializer='he_normal'))\n",
    "autoencoder.add(MaxPooling2D((2, 2), padding='same')) #padding=same here, to maxpool 7*7 to 4*4\n",
    "autoencoder.add(Conv2D(4, (1, 1), activation='sigmoid', padding='same', name='encoded_layer')) #to convert all to values between 0 and 1, for comparison later on using binary_crossentropy\n",
    "#at this point, 'encoded' is (4, 4, 4)\n",
    "\n",
    "autoencoder.add(UpSampling2D((2, 2)))\n",
    "autoencoder.add(Conv2D(8, (3, 3), activation='relu', padding='same', kernel_initializer='he_normal'))\n",
    "autoencoder.add(UpSampling2D((2, 2)))\n",
    "autoencoder.add(Conv2D(16, (3, 3), activation='relu', kernel_initializer='he_normal'))  #no padding=same here, to convert 16*16 to 14*14\n",
    "autoencoder.add(Conv2D(32, (3, 3), activation='relu', padding='same', kernel_initializer='he_normal'))\n",
    "autoencoder.add(UpSampling2D((2, 2)))\n",
    "autoencoder.add(Conv2D(1, (3, 3), activation='sigmoid', padding='same'))\n",
    "\n",
    "autoencoder.compile(optimizer='adam', loss='binary_crossentropy', metrics=['binary_crossentropy'])"
   ]
  },
  {
   "cell_type": "code",
   "execution_count": 33,
   "metadata": {},
   "outputs": [
    {
     "name": "stdout",
     "output_type": "stream",
     "text": [
      "Train on 60000 samples, validate on 10000 samples\n",
      "Epoch 1/30\n",
      "60000/60000 [==============================] - 23s - loss: 0.1093 - binary_crossentropy: 0.1093 - val_loss: 0.1072 - val_binary_crossentropy: 0.1072\n",
      "Epoch 2/30\n",
      "60000/60000 [==============================] - 23s - loss: 0.1074 - binary_crossentropy: 0.1074 - val_loss: 0.1058 - val_binary_crossentropy: 0.1058\n",
      "Epoch 3/30\n",
      "60000/60000 [==============================] - 22s - loss: 0.1060 - binary_crossentropy: 0.1060 - val_loss: 0.1043 - val_binary_crossentropy: 0.1043\n",
      "Epoch 4/30\n",
      "60000/60000 [==============================] - 23s - loss: 0.1047 - binary_crossentropy: 0.1047 - val_loss: 0.1031 - val_binary_crossentropy: 0.1031\n",
      "Epoch 5/30\n",
      "60000/60000 [==============================] - 22s - loss: 0.1034 - binary_crossentropy: 0.1034 - val_loss: 0.1017 - val_binary_crossentropy: 0.1017\n",
      "Epoch 6/30\n",
      "60000/60000 [==============================] - 23s - loss: 0.1023 - binary_crossentropy: 0.1023 - val_loss: 0.1014 - val_binary_crossentropy: 0.1014\n",
      "Epoch 7/30\n",
      "60000/60000 [==============================] - 22s - loss: 0.1015 - binary_crossentropy: 0.1015 - val_loss: 0.1005 - val_binary_crossentropy: 0.1005\n",
      "Epoch 8/30\n",
      "60000/60000 [==============================] - 23s - loss: 0.1005 - binary_crossentropy: 0.1005 - val_loss: 0.0994 - val_binary_crossentropy: 0.0994\n",
      "Epoch 9/30\n",
      "60000/60000 [==============================] - 23s - loss: 0.0999 - binary_crossentropy: 0.0999 - val_loss: 0.0989 - val_binary_crossentropy: 0.0989\n",
      "Epoch 10/30\n",
      "60000/60000 [==============================] - 23s - loss: 0.0992 - binary_crossentropy: 0.0992 - val_loss: 0.0980 - val_binary_crossentropy: 0.0980\n",
      "Epoch 11/30\n",
      "60000/60000 [==============================] - 23s - loss: 0.0986 - binary_crossentropy: 0.0986 - val_loss: 0.0974 - val_binary_crossentropy: 0.0974\n",
      "Epoch 12/30\n",
      "60000/60000 [==============================] - 22s - loss: 0.0980 - binary_crossentropy: 0.0980 - val_loss: 0.0969 - val_binary_crossentropy: 0.0969\n",
      "Epoch 13/30\n",
      "60000/60000 [==============================] - 23s - loss: 0.0975 - binary_crossentropy: 0.0975 - val_loss: 0.0964 - val_binary_crossentropy: 0.0964\n",
      "Epoch 14/30\n",
      "60000/60000 [==============================] - 22s - loss: 0.0970 - binary_crossentropy: 0.0970 - val_loss: 0.0959 - val_binary_crossentropy: 0.0959\n",
      "Epoch 15/30\n",
      "60000/60000 [==============================] - 22s - loss: 0.0966 - binary_crossentropy: 0.0966 - val_loss: 0.0964 - val_binary_crossentropy: 0.0964\n",
      "Epoch 16/30\n",
      "60000/60000 [==============================] - 23s - loss: 0.0962 - binary_crossentropy: 0.0962 - val_loss: 0.0953 - val_binary_crossentropy: 0.0953\n",
      "Epoch 17/30\n",
      "60000/60000 [==============================] - 23s - loss: 0.0958 - binary_crossentropy: 0.0958 - val_loss: 0.0950 - val_binary_crossentropy: 0.0950\n",
      "Epoch 18/30\n",
      "60000/60000 [==============================] - 22s - loss: 0.0956 - binary_crossentropy: 0.0956 - val_loss: 0.0942 - val_binary_crossentropy: 0.0942\n",
      "Epoch 19/30\n",
      "60000/60000 [==============================] - 17s - loss: 0.0952 - binary_crossentropy: 0.0952 - val_loss: 0.0943 - val_binary_crossentropy: 0.0943\n",
      "Epoch 20/30\n",
      "60000/60000 [==============================] - 14s - loss: 0.0949 - binary_crossentropy: 0.0949 - val_loss: 0.0940 - val_binary_crossentropy: 0.0940\n",
      "Epoch 21/30\n",
      "60000/60000 [==============================] - 14s - loss: 0.0945 - binary_crossentropy: 0.0945 - val_loss: 0.0935 - val_binary_crossentropy: 0.0935\n",
      "Epoch 22/30\n",
      "60000/60000 [==============================] - 15s - loss: 0.0944 - binary_crossentropy: 0.0944 - val_loss: 0.0937 - val_binary_crossentropy: 0.0937\n",
      "Epoch 23/30\n",
      "60000/60000 [==============================] - 15s - loss: 0.0941 - binary_crossentropy: 0.0941 - val_loss: 0.0929 - val_binary_crossentropy: 0.0929\n",
      "Epoch 24/30\n",
      "60000/60000 [==============================] - 15s - loss: 0.0938 - binary_crossentropy: 0.0938 - val_loss: 0.0929 - val_binary_crossentropy: 0.0929\n",
      "Epoch 25/30\n",
      "60000/60000 [==============================] - 15s - loss: 0.0936 - binary_crossentropy: 0.0936 - val_loss: 0.0924 - val_binary_crossentropy: 0.0924\n",
      "Epoch 26/30\n",
      "60000/60000 [==============================] - 15s - loss: 0.0934 - binary_crossentropy: 0.0934 - val_loss: 0.0923 - val_binary_crossentropy: 0.0923\n",
      "Epoch 27/30\n",
      "60000/60000 [==============================] - 14s - loss: 0.0932 - binary_crossentropy: 0.0932 - val_loss: 0.0922 - val_binary_crossentropy: 0.0922\n",
      "Epoch 28/30\n",
      "60000/60000 [==============================] - 15s - loss: 0.0929 - binary_crossentropy: 0.0929 - val_loss: 0.0929 - val_binary_crossentropy: 0.0929\n",
      "Epoch 29/30\n",
      "60000/60000 [==============================] - 15s - loss: 0.0928 - binary_crossentropy: 0.0928 - val_loss: 0.0919 - val_binary_crossentropy: 0.0919\n",
      "Epoch 30/30\n",
      "60000/60000 [==============================] - 14s - loss: 0.0927 - binary_crossentropy: 0.0927 - val_loss: 0.0918 - val_binary_crossentropy: 0.0918\n"
     ]
    },
    {
     "data": {
      "text/plain": [
       "<keras.callbacks.History at 0x222ab757550>"
      ]
     },
     "execution_count": 33,
     "metadata": {},
     "output_type": "execute_result"
    }
   ],
   "source": [
    "epochs = 30\n",
    "batch_size = 128\n",
    "\n",
    "autoencoder.fit(X_train, X_train,\n",
    "                epochs=epochs,\n",
    "                batch_size=batch_size,\n",
    "                shuffle=True,\n",
    "                validation_data=(X_test, X_test))"
   ]
  },
  {
   "cell_type": "code",
   "execution_count": 2,
   "metadata": {
    "collapsed": true
   },
   "outputs": [],
   "source": [
    "# from h5py import h5py\n",
    "\n",
    "# autoencoder.save('autoencoder_MNIST.h5')\n",
    "# autoencoder = load_model('autoencoder_MNIST.h5')"
   ]
  },
  {
   "cell_type": "markdown",
   "metadata": {},
   "source": [
    "<h5>\n",
    "The code below displays the original and autoencoded versions of 10 images.\n",
    "<br>\n",
    "They look pretty similar\n",
    "</h5>"
   ]
  },
  {
   "cell_type": "code",
   "execution_count": 4,
   "metadata": {},
   "outputs": [
    {
     "data": {
      "image/png": "[encoded data removed]",
      "text/plain": [
       "<matplotlib.figure.Figure at 0x2198e417c88>"
      ]
     },
     "metadata": {},
     "output_type": "display_data"
    }
   ],
   "source": [
    "n = 10\n",
    "img_to_show_idx = np.random.choice(range(X_test.shape[0]), n, replace=False)\n",
    "X_test_to_show = X_test[img_to_show_idx]\n",
    "aft_autoencode = autoencoder.predict(X_test_to_show)\n",
    "\n",
    "fig = plt.figure(figsize=(n*2, 5))\n",
    "plt.gray()\n",
    "img_shape = (28, 28)\n",
    "\n",
    "for i in range(n):\n",
    "    #display original\n",
    "    display_single_subplot(X_test_to_show[i].reshape(img_shape), n_row=2, n_col=n, cell_num=i+1)\n",
    "    #display aft autoencoding\n",
    "    display_single_subplot(aft_autoencode[i].reshape(img_shape), n_row=2, n_col=n, cell_num=n+i+1)\n",
    "\n",
    "plt.show()"
   ]
  },
  {
   "cell_type": "code",
   "execution_count": 46,
   "metadata": {},
   "outputs": [
    {
     "data": {
      "text/plain": [
       "<module 'autoencoder_utils' from 'C:\\\\Users\\\\puayn\\\\Desktop\\\\Data Science\\\\Projects\\\\Basic\\\\Find similar images using autoencoder network\\\\autoencoder_utils.py'>"
      ]
     },
     "execution_count": 46,
     "metadata": {},
     "output_type": "execute_result"
    }
   ],
   "source": [
    "import importlib\n",
    "import autoencoder_utils\n",
    "from autoencoder_utils import *\n",
    "importlib.reload(autoencoder_utils)"
   ]
  },
  {
   "cell_type": "markdown",
   "metadata": {},
   "source": [
    "<h3>\n",
    "Part 2 -- selecting similar images\n",
    "</h3>\n",
    "<h5>\n",
    "Given an image, select the most similar and dissimilar images, using binary cross entropy to determine similarity\n",
    "</h5>"
   ]
  },
  {
   "cell_type": "code",
   "execution_count": 5,
   "metadata": {
    "collapsed": true
   },
   "outputs": [],
   "source": [
    "#find images similar to the image at this index\n",
    "img_to_find_idx = 0\n",
    "\n",
    "layer_name = 'encoded_layer'\n",
    "encoder = Model(inputs=autoencoder.input, outputs=autoencoder.get_layer(layer_name).output)\n",
    "\n",
    "similarity_sorted = get_sorted_similarity_idx(encoder, img_to_find_idx, dataset=X_test, loss='binary_crossentropy')"
   ]
  },
  {
   "cell_type": "code",
   "execution_count": 6,
   "metadata": {},
   "outputs": [
    {
     "data": {
      "image/png": "[encoded data removed]",
      "text/plain": [
       "<matplotlib.figure.Figure at 0x21996018400>"
      ]
     },
     "metadata": {},
     "output_type": "display_data"
    }
   ],
   "source": [
    "#show original image, n most similar images, n most dissimilar images\n",
    "n = 10\n",
    "image_dataset = X_test\n",
    "\n",
    "plt.figure(figsize=(n*2, n/1.5))\n",
    "img_shape = (28,28)\n",
    "\n",
    "#display original\n",
    "display_single_subplot(image_dataset[img_to_find_idx].reshape(img_shape), n_row=3, n_col=n, cell_num=1)\n",
    "\n",
    "# #display most similar\n",
    "for i in range(n):\n",
    "    similar_idx = similarity_sorted[i]\n",
    "    display_single_subplot(image_dataset[similar_idx].reshape(img_shape), n_row=3, n_col=n, cell_num=n+i+1)\n",
    "\n",
    "# #display most dissimilar\n",
    "for i in range(n):\n",
    "    dissimilar_idx = similarity_sorted[-i-1]\n",
    "    display_single_subplot(image_dataset[dissimilar_idx].reshape(img_shape), n_row=3, n_col=n, cell_num=2*n+i+1)\n",
    "\n",
    "plt.show()"
   ]
  },
  {
   "cell_type": "markdown",
   "metadata": {
    "collapsed": true
   },
   "source": [
    "<h5>Check if this result can handle rotations, shifts, rescaling etc.</h5>"
   ]
  },
  {
   "cell_type": "code",
   "execution_count": 49,
   "metadata": {},
   "outputs": [
    {
     "name": "stdout",
     "output_type": "stream",
     "text": [
      "(21, 28, 28, 1)\n"
     ]
    }
   ],
   "source": [
    "#generates dataset of 21 images - 1 original image, 10 images augmented from the originalimage, 10 images randomly selected from dataset\n",
    "from keras.preprocessing.image import ImageDataGenerator\n",
    "\n",
    "#generate n modified images of an image, append n randomly selected image\n",
    "img_to_test_index = 1\n",
    "image_dataset = X_test\n",
    "n=10\n",
    "\n",
    "datagen = ImageDataGenerator(\n",
    "    rotation_range=15,\n",
    "    width_shift_range=0.15,\n",
    "    height_shift_range=0.15,\n",
    "    shear_range=0.15\n",
    "    )\n",
    "datagen.fit(image_dataset)\n",
    "\n",
    "selected_images = np.zeros((2*n+1,28,28,1))\n",
    "selected_images[0] = image_dataset[img_to_test_index]\n",
    "\n",
    "for i in range(n):\n",
    "    for _, img in enumerate(datagen.flow(image_dataset[img_to_test_index].reshape(1,28,28,1), batch_size=1)):\n",
    "        selected_images[i+1] = copy.deepcopy(img)\n",
    "        break\n",
    "\n",
    "random_selected_img_idx = np.random.choice(image_dataset.shape[0], 10, replace=False)\n",
    "for i, img_idx in enumerate(random_selected_img_idx):\n",
    "    selected_images[n+1+i] = (image_dataset[img_idx])\n",
    "\n",
    "print(selected_images.shape)"
   ]
  },
  {
   "cell_type": "code",
   "execution_count": 56,
   "metadata": {
    "collapsed": true
   },
   "outputs": [],
   "source": [
    "layer_name = 'encoded_layer'\n",
    "encoder = Model(inputs=autoencoder.input, outputs=autoencoder.get_layer(layer_name).output)\n",
    "\n",
    "similarity_sorted = get_sorted_similarity_idx(encoder, 0, dataset=selected_images, loss='binary_crossentropy')"
   ]
  },
  {
   "cell_type": "markdown",
   "metadata": {},
   "source": [
    "<h5>\n",
    "Here, we arrange the 20 images (10 augmented from the original image, 10 randomly selected from the wider pool of images), arranged by how similar they are to the original image.\n",
    "The modified images are mostly deemed to be similar to the original image\n",
    "</h5>"
   ]
  },
  {
   "cell_type": "code",
   "execution_count": 57,
   "metadata": {},
   "outputs": [
    {
     "data": {
      "image/png": "[encoded data removed]",
      "text/plain": [
       "<matplotlib.figure.Figure at 0x219bb7a8da0>"
      ]
     },
     "metadata": {},
     "output_type": "display_data"
    }
   ],
   "source": [
    "fig = plt.figure(figsize=(n*2, n/1.5))\n",
    "fig.suptitle('First row: original image. Second row: most similar images. Third row: least similar images')\n",
    "\n",
    "img_shape = (28, 28)\n",
    "#display original\n",
    "display_single_subplot(selected_images[0].reshape(img_shape), n_row=3, n_col=n, cell_num=1)\n",
    "\n",
    "#display most similar\n",
    "for i in range(n):\n",
    "    similar_idx = similarity_sorted[i]\n",
    "    display_single_subplot(selected_images[similar_idx].reshape(img_shape), n_row=3, n_col=n, cell_num=n+i+1)\n",
    "    \n",
    "#display most dissimilar\n",
    "for i in range(n):\n",
    "    dissimilar_idx = similarity_sorted[-i-1]\n",
    "    display_single_subplot(selected_images[dissimilar_idx].reshape(img_shape), n_row=3, n_col=n, cell_num=2*n+i+1)\n",
    "\n",
    "plt.show()"
   ]
  },
  {
   "cell_type": "code",
   "execution_count": null,
   "metadata": {
    "collapsed": true
   },
   "outputs": [],
   "source": []
  },
  {
   "cell_type": "markdown",
   "metadata": {
    "collapsed": true
   },
   "source": [
    "<h5>Compare to 'baseline', binary cross entropy comparison of raw image pixels. Will that return decent results?</h5>"
   ]
  },
  {
   "cell_type": "code",
   "execution_count": null,
   "metadata": {
    "collapsed": true
   },
   "outputs": [],
   "source": [
    "img_to_find_idx = 0\n",
    "dataset = X_test\n",
    "#initializing vars to pass into tensorflow\n",
    "X_selected = [dataset[img_to_find_idx].tolist() for _ in range(dataset.shape[0])]\n",
    "X_all = dataset.tolist()\n",
    "\n",
    "X_selected_tf = tf.Variable(X_selected, tf.float32)\n",
    "X_all_tf = tf.Variable(X_all, tf.float32)\n",
    "loss_tf = binary_crossentropy(X_selected_tf, X_all_tf)\n",
    "init_op = tf.global_variables_initializer()\n",
    "\n",
    "similarity = []\n",
    "with tf.Session() as sess:\n",
    "    sess.run(init_op)\n",
    "    similarity = sess.run(loss_tf)\n",
    "similarity_sorted = np.argsort(np.array(similarity))[1:] #the same figure appears in X_all too, so remove it"
   ]
  },
  {
   "cell_type": "code",
   "execution_count": null,
   "metadata": {
    "collapsed": true
   },
   "outputs": [],
   "source": [
    "fig = plt.figure(figsize=(n*2, n/1.5))\n",
    "fig.suptitle('First row: original image. Second row: most similar images. Third row: least similar images')\n",
    "\n",
    "img_shape = (28, 28)\n",
    "#display original\n",
    "display_single_subplot(selected_images[0].reshape(img_shape), n_row=3, n_col=n, cell_num=1)\n",
    "\n",
    "#display most similar\n",
    "for i in range(n):\n",
    "    similar_idx = similarity_sorted[i]\n",
    "    display_single_subplot(selected_images[similar_idx].reshape(img_shape), n_row=3, n_col=n, cell_num=n+i+1)\n",
    "    \n",
    "#display most dissimilar\n",
    "for i in range(n):\n",
    "    dissimilar_idx = similarity_sorted[-i-1]\n",
    "    display_single_subplot(selected_images[dissimilar_idx].reshape(img_shape), n_row=3, n_col=n, cell_num=2*n+i+1)\n",
    "\n",
    "plt.show()"
   ]
  }
 ],
 "metadata": {
  "kernelspec": {
   "display_name": "Python [conda env:defaultenv]",
   "language": "python",
   "name": "conda-env-defaultenv-py"
  },
  "language_info": {
   "codemirror_mode": {
    "name": "ipython",
    "version": 3
   },
   "file_extension": ".py",
   "mimetype": "text/x-python",
   "name": "python",
   "nbconvert_exporter": "python",
   "pygments_lexer": "ipython3",
   "version": "3.6.3"
  }
 },
 "nbformat": 4,
 "nbformat_minor": 2
}
